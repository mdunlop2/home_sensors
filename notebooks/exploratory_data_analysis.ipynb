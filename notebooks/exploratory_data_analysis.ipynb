{
 "cells": [
  {
   "cell_type": "markdown",
   "id": "58f317b2-1985-476e-a62a-b99cc0411141",
   "metadata": {},
   "source": [
    "# Exploratory Data Analysis\n",
    "\n",
    "In this notebook, we will explore the dataset provided and devise some simple features to use in the model."
   ]
  },
  {
   "cell_type": "markdown",
   "id": "f6d00a08-aff4-40f3-bf8a-87cf39ed1cf9",
   "metadata": {},
   "source": [
    "## First look\n",
    "\n",
    "### Size\n",
    "\n",
    "This dataset easily fits entirely in memory on most devices.\n",
    "There are 102 homes in the `homes` table.\n",
    "There are 580k sensor observations in the `motion` table, for only 50 homes.\n",
    "\n",
    "### Schema + Types\n",
    "\n",
    "The `datetime` column was timezone-aware, I have normalized this to UTC to make it easier to work with in Pandas.\n",
    "\n",
    "Our response is an integer indicating two potential outcomes:\n",
    "\n",
    "* 0: there was a single occupant in the house\n",
    "* 1: there was multiple occupancy\n",
    "\n",
    "There does not seem to be an option for zero occupancy, although this is probably indicated by times when no sensors were triggered.\n",
    "\n",
    "### Cleaning\n",
    "\n",
    "Homes with no `motion` observation are not interesting for fitting the model as there are no possible features to use, so I dropped them from the analysis even though this reduces the available samples by more than half.\n",
    "\n",
    "### Response Distribution\n",
    "\n",
    "After removing homes without sensor data, we are left with a slightly larger number of multiple-occupancy homes."
   ]
  },
  {
   "cell_type": "code",
   "execution_count": 1,
   "id": "8df8d3b0-d485-4eb0-90d2-04ed3d877ef4",
   "metadata": {},
   "outputs": [
    {
     "name": "stderr",
     "output_type": "stream",
     "text": [
      "2024-04-30 21:12:16,643 - INFO - Raw data downloaded successfully to /home/jovyan/work/data/data.db\n",
      "2024-04-30 21:12:16,780 - INFO - Table train_valid_test added successfully.\n"
     ]
    },
    {
     "name": "stdout",
     "output_type": "stream",
     "text": [
      "\n",
      "Raw data summary:\n",
      "Shape: (288016, 5)\n",
      "Schema + Types: {'home_id': dtype('O'), 'multiple_occupancy': dtype('int64'), 'id': dtype('O'), 'datetime': datetime64[ns, UTC], 'location': dtype('O')}\n",
      "Missing Data:{'home_id': 0, 'multiple_occupancy': 0, 'id': 0, 'datetime': 0, 'location': 0}\n",
      "Duplicated primary key: 0\n",
      "Duplicated home_id + location + time: 0\n",
      "Response mean: 0.76\n",
      "\n"
     ]
    }
   ],
   "source": [
    "import sqlite3\n",
    "import pandas as pd\n",
    "import numpy as np\n",
    "from lib.data.features import read_raw_data\n",
    "from lib.common.paths import DATABASE_LOCATION\n",
    "from lib.data.raw import download_raw_data_if_not_exists\n",
    "from lib.data.split import add_train_valid_test_split_table\n",
    "\n",
    "download_raw_data_if_not_exists(DATABASE_LOCATION)\n",
    "add_train_valid_test_split_table(DATABASE_LOCATION)\n",
    "\n",
    "df = read_raw_data(DATABASE_LOCATION, train=True)\n",
    "\n",
    "print(f\"\"\"\n",
    "Raw data summary:\n",
    "Shape: {df.shape}\n",
    "Schema + Types: {df.dtypes.to_dict()}\n",
    "Missing Data:{df.isnull().sum().to_dict()}\n",
    "Duplicated primary key: {sum(df.duplicated([\"id\", \"home_id\"]))}\n",
    "Duplicated home_id + location + time: {sum(df.duplicated([\"home_id\", \"location\", \"datetime\"]))}\n",
    "Response mean: {df.groupby(\"home_id\").agg({\"multiple_occupancy\": \"first\"})[\"multiple_occupancy\"].mean()}\n",
    "\"\"\")"
   ]
  },
  {
   "cell_type": "markdown",
   "id": "52848706-399e-4e21-a16e-4ba8940653a7",
   "metadata": {},
   "source": [
    "## Train-Valid-Test Split\n",
    "\n",
    "It is critical to ensure that all steps taken when developing a model have not been tainted with information from the response variable.\n",
    "\n",
    "A common practice is to leave a significant sample of data unseen until all decisions relating to the model have been taken and it is ready to be assessed. This will be the test set.\n",
    "\n",
    "I also include a validation set, which will be used to benchmark multiple models and feature combinations to select the final model.\n",
    "\n",
    "The dataset is split by `home_id`, as my prior expectation is that each `home_id` would operate independently of each other. \n",
    "\n",
    "This avoids issues where the model has been trained on data containing that particular `home_id` which would have artificially higher performance in unseen samples.\n",
    "\n",
    "A good example of this is the case where a test `datetime` occurs between two training `datetime` in that same `home_id` and `location`."
   ]
  }
 ],
 "metadata": {
  "kernelspec": {
   "display_name": "Python 3 (ipykernel)",
   "language": "python",
   "name": "python3"
  },
  "language_info": {
   "codemirror_mode": {
    "name": "ipython",
    "version": 3
   },
   "file_extension": ".py",
   "mimetype": "text/x-python",
   "name": "python",
   "nbconvert_exporter": "python",
   "pygments_lexer": "ipython3",
   "version": "3.11.9"
  }
 },
 "nbformat": 4,
 "nbformat_minor": 5
}

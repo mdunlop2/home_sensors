{
 "cells": [
  {
   "cell_type": "markdown",
   "id": "682d1bbc-08bf-4623-ac86-37f1a92f5860",
   "metadata": {},
   "source": [
    "# Model\n",
    "\n",
    "After defining the features to use, a model will now be fitted to the data and feature selection will be performed based on performance against the validation dataset witheld earlier."
   ]
  },
  {
   "cell_type": "code",
   "execution_count": 16,
   "id": "b98f87c5-29a6-4f29-b1ec-12cf2a1e5451",
   "metadata": {},
   "outputs": [],
   "source": [
    "from lib.data.features import read_raw_data, add_all_features\n",
    "from lib.common.paths import DATABASE_LOCATION\n",
    "\n",
    "multi_location_windows = [\"5min\", \"30min\", \"1h\", \"2h\"]\n",
    "\n",
    "df_train = add_all_features(read_raw_data(DATABASE_LOCATION, train=True), multi_location_windows)\n",
    "df_valid = add_all_features(read_raw_data(DATABASE_LOCATION, valid=True), multi_location_windows)\n",
    "\n",
    "# add a constant to use as an intercept\n",
    "df_train[\"one\"] = 1.0\n",
    "df_valid[\"one\"] = 1.0"
   ]
  },
  {
   "cell_type": "code",
   "execution_count": 17,
   "id": "bed84855-849f-4a1b-a758-90bf8b088753",
   "metadata": {},
   "outputs": [
    {
     "name": "stdout",
     "output_type": "stream",
     "text": [
      "Using features: \n",
      "['multiple_room_triggers_5min_per_hour', 'multiple_room_triggers_30min_per_hour', 'multiple_room_triggers_1h_per_hour', 'multiple_room_triggers_2h_per_hour', 'total_per_hour', 'bathroom_proportion', 'fake_0', 'fake_1', 'fake_2']\n"
     ]
    }
   ],
   "source": [
    "import numpy as np\n",
    "\n",
    "multi_room_features = [f\"multiple_room_triggers_{window}_per_hour\" for window in multi_location_windows]\n",
    "event_rate_features = [\"total_per_hour\"]\n",
    "bathroom_features = [\"bathroom_proportion\"]\n",
    "all_features = multi_room_features + event_rate_features + bathroom_features\n",
    "\n",
    "# add several noise variables to help guage overfitting\n",
    "n_fake_features = len(all_features) // 2\n",
    "fake_features = []\n",
    "for i in range(n_fake_features):\n",
    "    fake_feature_col = f\"fake_{i}\"\n",
    "    df_train[fake_feature_col] = np.random.randn(df_train.shape[0])\n",
    "    df_valid[fake_feature_col] = np.random.randn(df_valid.shape[0])\n",
    "    fake_features.append(fake_feature_col)\n",
    "total_features = all_features + fake_features\n",
    "print(f\"Using features: \\n{total_features}\")"
   ]
  },
  {
   "cell_type": "markdown",
   "id": "91a15208-9c28-4fb3-bb5d-5e0e4f6b5172",
   "metadata": {},
   "source": [
    "## Model Pipeline\n",
    "\n",
    "Scikit-Learn's model pipeline provides a clean abstraction over the pre-processing, fitting and prediction stages of a relatively simple machine learning model. In addition, it is well integrated with ONNX via `skl2onnx` package.\n"
   ]
  },
  {
   "cell_type": "code",
   "execution_count": 15,
   "id": "fc5452b3-9c34-4632-925b-d513ed3f3d7f",
   "metadata": {},
   "outputs": [
    {
     "name": "stdout",
     "output_type": "stream",
     "text": [
      "Shape of features: (286420, 9)\n",
      "Shape of labels: (286420,)\n",
      "Selected 0 with best score of 0.7595105090426646\n",
      "Selected 3 with best score of 0.7595174917952657\n",
      "Finishing as selection best score 0.7595174917952657 was not better than existing model 0.7595174917952657\n",
      "Selected features: [0, 3]\n"
     ]
    },
    {
     "ename": "NameError",
     "evalue": "name 'roc_auc_score' is not defined",
     "output_type": "error",
     "traceback": [
      "\u001b[0;31m---------------------------------------------------------------------------\u001b[0m",
      "\u001b[0;31mNameError\u001b[0m                                 Traceback (most recent call last)",
      "Cell \u001b[0;32mIn[15], line 24\u001b[0m\n\u001b[1;32m     22\u001b[0m pipeline\u001b[38;5;241m.\u001b[39mfit(X, y)\n\u001b[1;32m     23\u001b[0m pred_skl \u001b[38;5;241m=\u001b[39m pipeline\u001b[38;5;241m.\u001b[39mpredict(X\u001b[38;5;241m.\u001b[39mastype(np\u001b[38;5;241m.\u001b[39mfloat64))\n\u001b[0;32m---> 24\u001b[0m accuracy \u001b[38;5;241m=\u001b[39m \u001b[43mroc_auc_score\u001b[49m(y, pred_skl)\n",
      "\u001b[0;31mNameError\u001b[0m: name 'roc_auc_score' is not defined"
     ]
    }
   ],
   "source": [
    "from sklearn.pipeline import Pipeline\n",
    "from sklearn.linear_model import LogisticRegression\n",
    "from lib.model.stepwise import StepwiseFeatureSelector\n",
    "\n",
    "def valid_locator(df):\n",
    "    return df[\"total_cumulative\"] > 5\n",
    "\n",
    "response = \"multiple_occupancy\"\n",
    "X, y = df_train.loc[valid_locator(df_train), total_features].values.astype(np.float32), df_train.loc[valid_locator(df_train), response].values.astype(np.float32)\n",
    "\n",
    "# Check the shape of features and labels\n",
    "print(\"Shape of features:\", X.shape)\n",
    "print(\"Shape of labels:\", y.shape)\n",
    "\n",
    "# # Create the pipeline\n",
    "# sub_pipeline = Pipeline([])\n",
    "\n",
    "pipeline = Pipeline([\n",
    "    ('feature_selector', StepwiseFeatureSelector(estimator=LogisticRegression(), scoring=accuracy_score)),\n",
    "    ('classifier', LogisticRegression())\n",
    "])\n",
    "pipeline.fit(X, y)\n",
    "pred_skl = pipeline.predict(X.astype(np.float64))\n",
    "accuracy = roc_auc_score(y, pred_skl)"
   ]
  },
  {
   "cell_type": "code",
   "execution_count": 14,
   "id": "f57a2404-affc-4700-a2ac-c214b8a837cb",
   "metadata": {},
   "outputs": [
    {
     "data": {
      "text/plain": [
       "0.7594302073877522"
      ]
     },
     "execution_count": 14,
     "metadata": {},
     "output_type": "execute_result"
    }
   ],
   "source": [
    "from sklearn.metrics import accuracy_score\n",
    "\n",
    "accuracy_score(y, pred_skl)"
   ]
  },
  {
   "cell_type": "code",
   "execution_count": null,
   "id": "9a138fb8-a6c2-42f2-8b45-0cc1ebd9a52d",
   "metadata": {},
   "outputs": [],
   "source": []
  }
 ],
 "metadata": {
  "kernelspec": {
   "display_name": "Python 3 (ipykernel)",
   "language": "python",
   "name": "python3"
  },
  "language_info": {
   "codemirror_mode": {
    "name": "ipython",
    "version": 3
   },
   "file_extension": ".py",
   "mimetype": "text/x-python",
   "name": "python",
   "nbconvert_exporter": "python",
   "pygments_lexer": "ipython3",
   "version": "3.11.9"
  }
 },
 "nbformat": 4,
 "nbformat_minor": 5
}
